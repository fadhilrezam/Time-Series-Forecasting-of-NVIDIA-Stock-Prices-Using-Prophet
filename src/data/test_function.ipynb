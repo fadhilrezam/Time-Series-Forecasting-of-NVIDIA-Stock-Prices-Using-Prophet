{
 "cells": [
  {
   "cell_type": "code",
   "execution_count": 1,
   "metadata": {},
   "outputs": [],
   "source": [
    "import logging\n",
    "import pandas as pd\n",
    "from prophet import Prophet\n",
    "import mlflow\n",
    "import mlflow.prophet\n",
    "from mlflow.models.signature import infer_signature\n",
    "from sklearn.metrics import mean_absolute_error, mean_squared_error, root_mean_squared_error\n",
    "\n"
   ]
  },
  {
   "cell_type": "code",
   "execution_count": 2,
   "metadata": {},
   "outputs": [],
   "source": [
    "def load_preprocessed_dataset():\n",
    "    try:\n",
    "        train_scaled = pd.read_csv('../../data/processed/df_train_scaled.csv')\n",
    "        test_scaled = pd.read_csv('../../data/processed/df_test_scaled.csv')\n",
    "        logging.info('Data Loaded Successfully')\n",
    "        return train_scaled, test_scaled\n",
    "    except Exception as e:\n",
    "        logging.info(f'Error Loading Data: {e}')\n",
    "\n",
    "def train_model(df_train_scaled, df_test_scaled):\n",
    "    try:\n",
    "        prophet_model = Prophet(seasonality_mode='multiplicative').add_regressor('y_gspc')\n",
    "        future = df_test_scaled[['ds']].copy()\n",
    "        future['y_gspc'] = df_test_scaled['y_gspc']\n",
    "        prophet_model.fit(df_train_scaled)\n",
    "        df_predicted = prophet_model.predict(future)[['ds','yhat']]\n",
    "        signature = infer_signature(df_test_scaled, df_predicted)\n",
    "        rmse = root_mean_squared_error(df_predicted['yhat'], df_test_scaled['y'])\n",
    "        logging.INFO('Model Trained Successfully')\n",
    "        return prophet_model, signature, rmse\n",
    "    except Exception as e:\n",
    "        logging.info(f'Error Training Model: {e}')\n",
    "\n",
    "# def extract_params(model): #Extract prophet model parameter only with int, float, str and bool data type\n",
    "#     try:\n",
    "#         params = vars(model)\n",
    "#         logging.INFO('Parameters Extracted Successfully')\n",
    "#         return {key:value for key, value in params.items() if isinstance(value, (int, float, str, bool))}\n",
    "#     except Exception as e:\n",
    "#         logging.info(f'Error Extracting Parameters: {e}')\n",
    "\n",
    "# if __name__ == '__main__':\n",
    "#     with mlflow.start_run() as run:\n",
    "#         df_train_scaled, df_test_scaled = load_preprocessed_dataset()\n",
    "#         prophet_model,signature, rmse_score = train_model(df_train_scaled, df_test_scaled)\n",
    "#         params = extract_params(prophet_model)\n",
    "\n",
    "#         mlflow.prophet.log_model(prophet_model, artifact_path = 'prophet_model',signature = signature)\n",
    "#         mlflow.log_params(params)\n",
    "#         mlflow.log_metric('RMSE Score', rmse_score)\n",
    "\n",
    "#         logging.info('Process Completed')\n"
   ]
  },
  {
   "cell_type": "code",
   "execution_count": 4,
   "metadata": {},
   "outputs": [],
   "source": [
    "df_train_scaled, df_test_scaled = load_preprocessed_dataset()"
   ]
  },
  {
   "cell_type": "code",
   "execution_count": 23,
   "metadata": {},
   "outputs": [],
   "source": [
    "def train_model(df_train_scaled, df_test_scaled):\n",
    "    try:\n",
    "        prophet_model = Prophet(seasonality_mode='multiplicative').add_regressor('y_gspc')\n",
    "        future = df_test_scaled[['ds']].copy()\n",
    "        future['y_gspc'] = df_test_scaled['y_gspc']\n",
    "        prophet_model.fit(df_train_scaled)\n",
    "        df_predicted = prophet_model.predict(future)[['ds','yhat']]\n",
    "        signature = infer_signature(df_test_scaled, df_predicted)\n",
    "        rmse = root_mean_squared_error(df_predicted['yhat'], df_test_scaled['y'])\n",
    "\n",
    "        return prophet_model, rmse, signature\n",
    "    except Exception as e:\n",
    "        logging.info(f'Error Training Model: {e}')\n",
    "    "
   ]
  },
  {
   "cell_type": "code",
   "execution_count": 24,
   "metadata": {},
   "outputs": [
    {
     "name": "stderr",
     "output_type": "stream",
     "text": [
      "DEBUG:cmdstanpy:cmd: where.exe tbb.dll\n",
      "cwd: None\n",
      "DEBUG:cmdstanpy:TBB already found in load path\n",
      "INFO:prophet:Disabling daily seasonality. Run prophet with daily_seasonality=True to override this.\n",
      "DEBUG:cmdstanpy:input tempfile: C:\\Users\\Fadhil\\AppData\\Local\\Temp\\tmps0f43mg0\\5jphrty0.json\n",
      "DEBUG:cmdstanpy:input tempfile: C:\\Users\\Fadhil\\AppData\\Local\\Temp\\tmps0f43mg0\\qzod7yz9.json\n",
      "DEBUG:cmdstanpy:idx 0\n",
      "DEBUG:cmdstanpy:running CmdStan, num_threads: None\n",
      "DEBUG:cmdstanpy:CmdStan args: ['C:\\\\ProgramData\\\\anaconda3\\\\Lib\\\\site-packages\\\\prophet\\\\stan_model\\\\prophet_model.bin', 'random', 'seed=71039', 'data', 'file=C:\\\\Users\\\\Fadhil\\\\AppData\\\\Local\\\\Temp\\\\tmps0f43mg0\\\\5jphrty0.json', 'init=C:\\\\Users\\\\Fadhil\\\\AppData\\\\Local\\\\Temp\\\\tmps0f43mg0\\\\qzod7yz9.json', 'output', 'file=C:\\\\Users\\\\Fadhil\\\\AppData\\\\Local\\\\Temp\\\\tmps0f43mg0\\\\prophet_model4jzl3svb\\\\prophet_model-20241013124927.csv', 'method=optimize', 'algorithm=lbfgs', 'iter=10000']\n",
      "12:49:27 - cmdstanpy - INFO - Chain [1] start processing\n",
      "INFO:cmdstanpy:Chain [1] start processing\n",
      "12:49:29 - cmdstanpy - INFO - Chain [1] done processing\n",
      "INFO:cmdstanpy:Chain [1] done processing\n"
     ]
    }
   ],
   "source": [
    "model,rmse_score, signature = train_model(df_train_scaled, df_test_scaled)"
   ]
  },
  {
   "cell_type": "code",
   "execution_count": 28,
   "metadata": {},
   "outputs": [],
   "source": [
    "def extract_params(model): #Extract prophet model parameter only with int, float, str and bool data type\n",
    "    try:\n",
    "        params = vars(model)\n",
    "        logging.INFO('Parameters Extracted Successfully')\n",
    "        return {key:value for key, value in params.items() if isinstance(value, (int, float, str, bool))}\n",
    "    except Exception as e:\n",
    "        logging.info(f'Error Extracting Parameters: {e}')"
   ]
  },
  {
   "cell_type": "code",
   "execution_count": 32,
   "metadata": {},
   "outputs": [],
   "source": [
    "params = vars(model)"
   ]
  },
  {
   "cell_type": "code",
   "execution_count": 36,
   "metadata": {},
   "outputs": [
    {
     "data": {
      "text/plain": [
       "{'growth': 'linear',\n",
       " 'n_changepoints': 25,\n",
       " 'specified_changepoints': False,\n",
       " 'changepoint_range': 0.8,\n",
       " 'yearly_seasonality': 'auto',\n",
       " 'weekly_seasonality': 'auto',\n",
       " 'daily_seasonality': 'auto',\n",
       " 'seasonality_mode': 'multiplicative',\n",
       " 'holidays_mode': 'multiplicative',\n",
       " 'seasonality_prior_scale': 10.0,\n",
       " 'changepoint_prior_scale': 0.05,\n",
       " 'holidays_prior_scale': 10.0,\n",
       " 'mcmc_samples': 0,\n",
       " 'interval_width': 0.8,\n",
       " 'uncertainty_samples': 1000,\n",
       " 'scaling': 'absmax',\n",
       " 'y_min': 0.0,\n",
       " 'y_scale': 1.0,\n",
       " 'logistic_floor': False}"
      ]
     },
     "execution_count": 36,
     "metadata": {},
     "output_type": "execute_result"
    }
   ],
   "source": [
    "{key:value for key, value in params.items() if isinstance(value, (int, float, str, bool))}"
   ]
  },
  {
   "cell_type": "code",
   "execution_count": 7,
   "metadata": {},
   "outputs": [
    {
     "ename": "NameError",
     "evalue": "name 'prophet_model' is not defined",
     "output_type": "error",
     "traceback": [
      "\u001b[1;31m---------------------------------------------------------------------------\u001b[0m",
      "\u001b[1;31mNameError\u001b[0m                                 Traceback (most recent call last)",
      "Cell \u001b[1;32mIn[7], line 1\u001b[0m\n\u001b[1;32m----> 1\u001b[0m prophet_model\n",
      "\u001b[1;31mNameError\u001b[0m: name 'prophet_model' is not defined"
     ]
    }
   ],
   "source": [
    "prophet_model"
   ]
  },
  {
   "cell_type": "code",
   "execution_count": null,
   "metadata": {},
   "outputs": [],
   "source": []
  }
 ],
 "metadata": {
  "kernelspec": {
   "display_name": "Python 3.12.4 ('base')",
   "language": "python",
   "name": "python3"
  },
  "language_info": {
   "codemirror_mode": {
    "name": "ipython",
    "version": 3
   },
   "file_extension": ".py",
   "mimetype": "text/x-python",
   "name": "python",
   "nbconvert_exporter": "python",
   "pygments_lexer": "ipython3",
   "version": "3.12.4"
  },
  "orig_nbformat": 4,
  "vscode": {
   "interpreter": {
    "hash": "ad2bdc8ecc057115af97d19610ffacc2b4e99fae6737bb82f5d7fb13d2f2c186"
   }
  }
 },
 "nbformat": 4,
 "nbformat_minor": 2
}
